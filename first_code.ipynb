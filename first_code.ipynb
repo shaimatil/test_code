import pandas as pd
%matplotlib inline
import seaborn as sns

data_fifa = pd.read_csv('fifa-2018-match-statistics\\FIFA 2018 Statistics.csv')
