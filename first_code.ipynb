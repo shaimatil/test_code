import pandas as pd
%matplotlib inline
import seaborn as sns

data_fifa = pd.read_csv('fifa-2018-match-statistics\\FIFA 2018 Statistics.csv')

import matplotlib.pyplot as plt
groupedSortedData = data_fifa.groupby('Team')['Goal Scored'].mean().reset_index().sort_values(by='Goal Scored', ascending=False)
plt.figure(figsize = (17, 10), facecolor = None)
sns.set(font_scale=1.5)
plot1 = sns.barplot(x='Team', y='Goal Scored', data=groupedSortedData)
plot1.set_xticklabels(groupedSortedData['Team'], rotation=90, ha="center")
